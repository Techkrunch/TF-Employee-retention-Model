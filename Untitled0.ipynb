{
  "nbformat": 4,
  "nbformat_minor": 0,
  "metadata": {
    "colab": {
      "name": "Untitled0.ipynb",
      "provenance": [],
      "collapsed_sections": [],
      "authorship_tag": "ABX9TyOzQVrzOZ1q7dl0QStggjB3",
      "include_colab_link": true
    },
    "kernelspec": {
      "name": "python3",
      "display_name": "Python 3"
    },
    "accelerator": "TPU"
  },
  "cells": [
    {
      "cell_type": "markdown",
      "metadata": {
        "id": "view-in-github",
        "colab_type": "text"
      },
      "source": [
        "<a href=\"https://colab.research.google.com/github/Techkrunch/TF-Employee-retention-Model/blob/master/Untitled0.ipynb\" target=\"_parent\"><img src=\"https://colab.research.google.com/assets/colab-badge.svg\" alt=\"Open In Colab\"/></a>"
      ]
    },
    {
      "cell_type": "code",
      "metadata": {
        "id": "qpTAHR8WECQq",
        "colab_type": "code",
        "colab": {}
      },
      "source": [
        "import tensorflow as tf\n",
        "import pandas as pd\n",
        "import numpy as np\n",
        "df = pd.read_csv(\"https://raw.githubusercontent.com/mwitiderrick/kerasDO/master/HR_comma_sep.csv\")"
      ],
      "execution_count": 0,
      "outputs": []
    },
    {
      "cell_type": "code",
      "metadata": {
        "id": "TGnCTzl5Hp-D",
        "colab_type": "code",
        "colab": {
          "base_uri": "https://localhost:8080/",
          "height": 204
        },
        "outputId": "0cafd1f5-22c0-4de6-ccc5-c9474a59d42c"
      },
      "source": [
        "df.head()"
      ],
      "execution_count": 4,
      "outputs": [
        {
          "output_type": "execute_result",
          "data": {
            "text/html": [
              "<div>\n",
              "<style scoped>\n",
              "    .dataframe tbody tr th:only-of-type {\n",
              "        vertical-align: middle;\n",
              "    }\n",
              "\n",
              "    .dataframe tbody tr th {\n",
              "        vertical-align: top;\n",
              "    }\n",
              "\n",
              "    .dataframe thead th {\n",
              "        text-align: right;\n",
              "    }\n",
              "</style>\n",
              "<table border=\"1\" class=\"dataframe\">\n",
              "  <thead>\n",
              "    <tr style=\"text-align: right;\">\n",
              "      <th></th>\n",
              "      <th>satisfaction_level</th>\n",
              "      <th>last_evaluation</th>\n",
              "      <th>number_project</th>\n",
              "      <th>average_montly_hours</th>\n",
              "      <th>time_spend_company</th>\n",
              "      <th>Work_accident</th>\n",
              "      <th>left</th>\n",
              "      <th>promotion_last_5years</th>\n",
              "      <th>department</th>\n",
              "      <th>salary</th>\n",
              "    </tr>\n",
              "  </thead>\n",
              "  <tbody>\n",
              "    <tr>\n",
              "      <th>0</th>\n",
              "      <td>0.38</td>\n",
              "      <td>0.53</td>\n",
              "      <td>2</td>\n",
              "      <td>157</td>\n",
              "      <td>3</td>\n",
              "      <td>0</td>\n",
              "      <td>1</td>\n",
              "      <td>0</td>\n",
              "      <td>sales</td>\n",
              "      <td>low</td>\n",
              "    </tr>\n",
              "    <tr>\n",
              "      <th>1</th>\n",
              "      <td>0.80</td>\n",
              "      <td>0.86</td>\n",
              "      <td>5</td>\n",
              "      <td>262</td>\n",
              "      <td>6</td>\n",
              "      <td>0</td>\n",
              "      <td>1</td>\n",
              "      <td>0</td>\n",
              "      <td>sales</td>\n",
              "      <td>medium</td>\n",
              "    </tr>\n",
              "    <tr>\n",
              "      <th>2</th>\n",
              "      <td>0.11</td>\n",
              "      <td>0.88</td>\n",
              "      <td>7</td>\n",
              "      <td>272</td>\n",
              "      <td>4</td>\n",
              "      <td>0</td>\n",
              "      <td>1</td>\n",
              "      <td>0</td>\n",
              "      <td>sales</td>\n",
              "      <td>medium</td>\n",
              "    </tr>\n",
              "    <tr>\n",
              "      <th>3</th>\n",
              "      <td>0.72</td>\n",
              "      <td>0.87</td>\n",
              "      <td>5</td>\n",
              "      <td>223</td>\n",
              "      <td>5</td>\n",
              "      <td>0</td>\n",
              "      <td>1</td>\n",
              "      <td>0</td>\n",
              "      <td>sales</td>\n",
              "      <td>low</td>\n",
              "    </tr>\n",
              "    <tr>\n",
              "      <th>4</th>\n",
              "      <td>0.37</td>\n",
              "      <td>0.52</td>\n",
              "      <td>2</td>\n",
              "      <td>159</td>\n",
              "      <td>3</td>\n",
              "      <td>0</td>\n",
              "      <td>1</td>\n",
              "      <td>0</td>\n",
              "      <td>sales</td>\n",
              "      <td>low</td>\n",
              "    </tr>\n",
              "  </tbody>\n",
              "</table>\n",
              "</div>"
            ],
            "text/plain": [
              "   satisfaction_level  last_evaluation  ...  department  salary\n",
              "0                0.38             0.53  ...       sales     low\n",
              "1                0.80             0.86  ...       sales  medium\n",
              "2                0.11             0.88  ...       sales  medium\n",
              "3                0.72             0.87  ...       sales     low\n",
              "4                0.37             0.52  ...       sales     low\n",
              "\n",
              "[5 rows x 10 columns]"
            ]
          },
          "metadata": {
            "tags": []
          },
          "execution_count": 4
        }
      ]
    },
    {
      "cell_type": "code",
      "metadata": {
        "id": "6-kJEXgbJbtb",
        "colab_type": "code",
        "colab": {}
      },
      "source": [
        "feats = ['department','salary']\n",
        "df_final = pd.get_dummies(df,columns=feats,drop_first=True)"
      ],
      "execution_count": 0,
      "outputs": []
    },
    {
      "cell_type": "code",
      "metadata": {
        "id": "TTzz4MdfJiQR",
        "colab_type": "code",
        "colab": {}
      },
      "source": [
        "from sklearn.model_selection import train_test_split"
      ],
      "execution_count": 0,
      "outputs": []
    },
    {
      "cell_type": "code",
      "metadata": {
        "id": "IbONPmFGJ5mE",
        "colab_type": "code",
        "colab": {}
      },
      "source": [
        "X = df_final.drop(['left'],axis=1).values\n",
        "y = df_final['left'].values"
      ],
      "execution_count": 0,
      "outputs": []
    },
    {
      "cell_type": "code",
      "metadata": {
        "id": "WjiUEAUAKIuh",
        "colab_type": "code",
        "colab": {}
      },
      "source": [
        "X_train, X_test, y_train, y_test = train_test_split(X, y, test_size=0.3)"
      ],
      "execution_count": 0,
      "outputs": []
    },
    {
      "cell_type": "code",
      "metadata": {
        "id": "9r77RQrDKIYR",
        "colab_type": "code",
        "colab": {}
      },
      "source": [
        "from sklearn.preprocessing import StandardScaler\n",
        "sc = StandardScaler()\n",
        "X_train = sc.fit_transform(X_train)\n",
        "X_test = sc.transform(X_test)"
      ],
      "execution_count": 0,
      "outputs": []
    },
    {
      "cell_type": "code",
      "metadata": {
        "id": "SrhCssauKjue",
        "colab_type": "code",
        "colab": {
          "base_uri": "https://localhost:8080/",
          "height": 34
        },
        "outputId": "ee9048ce-67f5-4636-83c7-fb295455fde8"
      },
      "source": [
        "import keras\n",
        "from keras.models import Sequential\n",
        "from keras.layers import Dense"
      ],
      "execution_count": 11,
      "outputs": [
        {
          "output_type": "stream",
          "text": [
            "Using TensorFlow backend.\n"
          ],
          "name": "stderr"
        }
      ]
    },
    {
      "cell_type": "code",
      "metadata": {
        "id": "5MfSsPfpKjeU",
        "colab_type": "code",
        "colab": {}
      },
      "source": [
        "classifier = Sequential()"
      ],
      "execution_count": 0,
      "outputs": []
    },
    {
      "cell_type": "code",
      "metadata": {
        "id": "iHUrXUFdK-5N",
        "colab_type": "code",
        "colab": {}
      },
      "source": [
        "classifier.add(Dense(9, kernel_initializer = \"uniform\",activation = \"relu\", input_dim=18))"
      ],
      "execution_count": 0,
      "outputs": []
    },
    {
      "cell_type": "code",
      "metadata": {
        "id": "PFAHcmJgLMhY",
        "colab_type": "code",
        "colab": {}
      },
      "source": [
        "classifier.add(Dense(1, kernel_initializer = \"uniform\",activation = \"sigmoid\"))"
      ],
      "execution_count": 0,
      "outputs": []
    },
    {
      "cell_type": "code",
      "metadata": {
        "id": "KLYc-cHKLnL9",
        "colab_type": "code",
        "colab": {}
      },
      "source": [
        "classifier.compile(optimizer= \"adam\",loss = \"binary_crossentropy\",metrics = [\"accuracy\"])"
      ],
      "execution_count": 0,
      "outputs": []
    },
    {
      "cell_type": "code",
      "metadata": {
        "id": "V51LGXbeNGKI",
        "colab_type": "code",
        "colab": {
          "base_uri": "https://localhost:8080/",
          "height": 68
        },
        "outputId": "8ac3f3bf-1284-463e-b447-cd8d0de8219b"
      },
      "source": [
        "classifier.fit(X_train, y_train, batch_size = 10, epochs = 1)"
      ],
      "execution_count": 24,
      "outputs": [
        {
          "output_type": "stream",
          "text": [
            "Epoch 1/1\n",
            "10499/10499 [==============================] - 2s 159us/step - loss: 0.4556 - acc: 0.7608\n"
          ],
          "name": "stdout"
        },
        {
          "output_type": "execute_result",
          "data": {
            "text/plain": [
              "<keras.callbacks.History at 0x7f517b01d390>"
            ]
          },
          "metadata": {
            "tags": []
          },
          "execution_count": 24
        }
      ]
    },
    {
      "cell_type": "code",
      "metadata": {
        "id": "hYIc5-rrNa7f",
        "colab_type": "code",
        "colab": {}
      },
      "source": [
        "y_pred = classifier.predict(X_test)"
      ],
      "execution_count": 0,
      "outputs": []
    },
    {
      "cell_type": "code",
      "metadata": {
        "id": "6YmHeDxGNerf",
        "colab_type": "code",
        "colab": {}
      },
      "source": [
        "y_pred = (y_pred > 0.5)"
      ],
      "execution_count": 0,
      "outputs": []
    },
    {
      "cell_type": "code",
      "metadata": {
        "id": "lfJqEhorNiNq",
        "colab_type": "code",
        "colab": {
          "base_uri": "https://localhost:8080/",
          "height": 51
        },
        "outputId": "288625be-91f4-4589-e784-b1f2f5022b2a"
      },
      "source": [
        "from sklearn.metrics import confusion_matrix\n",
        "cm = confusion_matrix(y_test, y_pred)\n",
        "cm"
      ],
      "execution_count": 27,
      "outputs": [
        {
          "output_type": "execute_result",
          "data": {
            "text/plain": [
              "array([[3440,    0],\n",
              "       [1060,    0]])"
            ]
          },
          "metadata": {
            "tags": []
          },
          "execution_count": 27
        }
      ]
    },
    {
      "cell_type": "code",
      "metadata": {
        "id": "NXL3N4fMNm1P",
        "colab_type": "code",
        "colab": {}
      },
      "source": [
        "new_pred = classifier.predict(sc.transform(np.array([[0.26,0.7 ,3., 238., 6., 0.,0.,0.,0., 0.,0.,0.,0.,0.,1.,0., 0.,1.]])))"
      ],
      "execution_count": 0,
      "outputs": []
    },
    {
      "cell_type": "code",
      "metadata": {
        "id": "AJ5NNoctNxwA",
        "colab_type": "code",
        "colab": {
          "base_uri": "https://localhost:8080/",
          "height": 34
        },
        "outputId": "0bc4314d-ec14-4cdf-c18e-f789d1c09b21"
      },
      "source": [
        "new_pred = (new_pred > 0.9)\n",
        "new_pred"
      ],
      "execution_count": 34,
      "outputs": [
        {
          "output_type": "execute_result",
          "data": {
            "text/plain": [
              "array([[False]])"
            ]
          },
          "metadata": {
            "tags": []
          },
          "execution_count": 34
        }
      ]
    },
    {
      "cell_type": "code",
      "metadata": {
        "id": "Fl34g_h8OI1r",
        "colab_type": "code",
        "colab": {}
      },
      "source": [
        "from keras.wrappers.scikit_learn import KerasClassifier\n",
        "from sklearn.model_selection import cross_val_score"
      ],
      "execution_count": 0,
      "outputs": []
    },
    {
      "cell_type": "code",
      "metadata": {
        "id": "BM3PGV8jOLRL",
        "colab_type": "code",
        "colab": {}
      },
      "source": [
        "def make_classifier():\n",
        "    classifier = Sequential()\n",
        "    classifier.add(Dense(9, kernel_initializer = \"uniform\", activation = \"relu\", input_dim=18))\n",
        "    classifier.add(Dense(1, kernel_initializer = \"uniform\", activation = \"sigmoid\"))\n",
        "    classifier.compile(optimizer= \"adam\",loss = \"binary_crossentropy\",metrics = [\"accuracy\"])\n",
        "    return classifier"
      ],
      "execution_count": 0,
      "outputs": []
    },
    {
      "cell_type": "code",
      "metadata": {
        "id": "agUxeoyhOPZH",
        "colab_type": "code",
        "colab": {}
      },
      "source": [
        "classifier = KerasClassifier(build_fn = make_classifier, batch_size=10, nb_epoch=1)"
      ],
      "execution_count": 0,
      "outputs": []
    },
    {
      "cell_type": "code",
      "metadata": {
        "id": "o27pT-Q-OQ8Y",
        "colab_type": "code",
        "colab": {}
      },
      "source": [
        "accuracies = cross_val_score(estimator = classifier,X = X_train,y = y_train,cv = 10,n_jobs = -1)"
      ],
      "execution_count": 0,
      "outputs": []
    },
    {
      "cell_type": "code",
      "metadata": {
        "id": "7syVPv_oOXSy",
        "colab_type": "code",
        "colab": {
          "base_uri": "https://localhost:8080/",
          "height": 34
        },
        "outputId": "f1c4dc9d-ede8-4322-b049-5f1c26c9e836"
      },
      "source": [
        "mean = accuracies.mean()\n",
        "mean"
      ],
      "execution_count": 39,
      "outputs": [
        {
          "output_type": "execute_result",
          "data": {
            "text/plain": [
              "0.8448468795598807"
            ]
          },
          "metadata": {
            "tags": []
          },
          "execution_count": 39
        }
      ]
    },
    {
      "cell_type": "code",
      "metadata": {
        "id": "FqBZPFT6OZLs",
        "colab_type": "code",
        "colab": {
          "base_uri": "https://localhost:8080/",
          "height": 34
        },
        "outputId": "a12226e2-9635-46b0-89f5-54630432f924"
      },
      "source": [
        "variance = accuracies.var()\n",
        "variance"
      ],
      "execution_count": 40,
      "outputs": [
        {
          "output_type": "execute_result",
          "data": {
            "text/plain": [
              "0.001955751303994852"
            ]
          },
          "metadata": {
            "tags": []
          },
          "execution_count": 40
        }
      ]
    },
    {
      "cell_type": "code",
      "metadata": {
        "id": "b_OW4dY5Oez5",
        "colab_type": "code",
        "colab": {}
      },
      "source": [
        "from keras.layers import Dropout\n",
        "\n",
        "classifier = Sequential()\n",
        "classifier.add(Dense(9, kernel_initializer = \"uniform\", activation = \"relu\", input_dim=18))\n",
        "classifier.add(Dropout(rate = 0.1))\n",
        "classifier.add(Dense(1, kernel_initializer = \"uniform\", activation = \"sigmoid\"))\n",
        "classifier.compile(optimizer= \"adam\",loss = \"binary_crossentropy\",metrics = [\"accuracy\"])"
      ],
      "execution_count": 0,
      "outputs": []
    },
    {
      "cell_type": "code",
      "metadata": {
        "id": "EYaHH90OOq8T",
        "colab_type": "code",
        "colab": {}
      },
      "source": [
        "from sklearn.model_selection import GridSearchCV\n",
        "def make_classifier(optimizer):\n",
        "    classifier = Sequential()\n",
        "    classifier.add(Dense(9, kernel_initializer = \"uniform\", activation = \"relu\", input_dim=18))\n",
        "    classifier.add(Dense(1, kernel_initializer = \"uniform\", activation = \"sigmoid\"))\n",
        "    classifier.compile(optimizer= optimizer,loss = \"binary_crossentropy\",metrics = [\"accuracy\"])\n",
        "    return classifier"
      ],
      "execution_count": 0,
      "outputs": []
    },
    {
      "cell_type": "code",
      "metadata": {
        "id": "kUkBL6-zOxLF",
        "colab_type": "code",
        "colab": {}
      },
      "source": [
        "classifier = KerasClassifier(build_fn = make_classifier)"
      ],
      "execution_count": 0,
      "outputs": []
    },
    {
      "cell_type": "code",
      "metadata": {
        "id": "mXhAudTzOy-p",
        "colab_type": "code",
        "colab": {}
      },
      "source": [
        "params = {\n",
        "    'batch_size':[20,35],\n",
        "    'epochs':[2,3],\n",
        "    'optimizer':['adam','rmsprop']\n",
        "}"
      ],
      "execution_count": 0,
      "outputs": []
    },
    {
      "cell_type": "code",
      "metadata": {
        "id": "qiEEbuMJPA89",
        "colab_type": "code",
        "colab": {}
      },
      "source": [
        "grid_search = GridSearchCV(estimator=classifier,\n",
        "                           param_grid=params,\n",
        "                           scoring=\"accuracy\",\n",
        "                           cv=2)"
      ],
      "execution_count": 0,
      "outputs": []
    },
    {
      "cell_type": "code",
      "metadata": {
        "id": "uieuEJ-qPDw1",
        "colab_type": "code",
        "colab": {
          "base_uri": "https://localhost:8080/",
          "height": 1000
        },
        "outputId": "9d7d6c6d-83e6-4731-8ea6-84d22ca90634"
      },
      "source": [
        "grid_search = grid_search.fit(X_train,y_train)"
      ],
      "execution_count": 47,
      "outputs": [
        {
          "output_type": "stream",
          "text": [
            "Epoch 1/2\n",
            "5249/5249 [==============================] - 1s 130us/step - loss: 0.5837 - acc: 0.7594\n",
            "Epoch 2/2\n",
            "5249/5249 [==============================] - 0s 62us/step - loss: 0.3996 - acc: 0.7954\n",
            "Epoch 1/2\n",
            "5250/5250 [==============================] - 1s 131us/step - loss: 0.5899 - acc: 0.7611\n",
            "Epoch 2/2\n",
            "5250/5250 [==============================] - 0s 65us/step - loss: 0.4002 - acc: 0.8032\n",
            "Epoch 1/2\n",
            "5249/5249 [==============================] - 1s 120us/step - loss: 0.5958 - acc: 0.7594\n",
            "Epoch 2/2\n",
            "5249/5249 [==============================] - 0s 58us/step - loss: 0.4435 - acc: 0.7611\n",
            "Epoch 1/2\n",
            "5250/5250 [==============================] - 1s 125us/step - loss: 0.5924 - acc: 0.7590\n",
            "Epoch 2/2\n",
            "5250/5250 [==============================] - 0s 56us/step - loss: 0.4294 - acc: 0.7983\n",
            "Epoch 1/3\n",
            "5249/5249 [==============================] - 1s 147us/step - loss: 0.5723 - acc: 0.7609\n",
            "Epoch 2/3\n",
            "5249/5249 [==============================] - 0s 64us/step - loss: 0.4037 - acc: 0.7891\n",
            "Epoch 3/3\n",
            "5249/5249 [==============================] - 0s 62us/step - loss: 0.3468 - acc: 0.8061\n",
            "Epoch 1/3\n",
            "5250/5250 [==============================] - 1s 167us/step - loss: 0.5899 - acc: 0.7568\n",
            "Epoch 2/3\n",
            "5250/5250 [==============================] - 0s 67us/step - loss: 0.3972 - acc: 0.8250\n",
            "Epoch 3/3\n",
            "5250/5250 [==============================] - 0s 63us/step - loss: 0.3191 - acc: 0.8726\n",
            "Epoch 1/3\n",
            "5249/5249 [==============================] - 1s 164us/step - loss: 0.5939 - acc: 0.7601\n",
            "Epoch 2/3\n",
            "5249/5249 [==============================] - 0s 61us/step - loss: 0.4380 - acc: 0.7914\n",
            "Epoch 3/3\n",
            "5249/5249 [==============================] - 0s 63us/step - loss: 0.3724 - acc: 0.7986\n",
            "Epoch 1/3\n",
            "5250/5250 [==============================] - 1s 176us/step - loss: 0.5938 - acc: 0.7568\n",
            "Epoch 2/3\n",
            "5250/5250 [==============================] - 0s 64us/step - loss: 0.4357 - acc: 0.7943\n",
            "Epoch 3/3\n",
            "5250/5250 [==============================] - 0s 64us/step - loss: 0.3703 - acc: 0.8259\n",
            "Epoch 1/2\n",
            "5249/5249 [==============================] - 1s 176us/step - loss: 0.6414 - acc: 0.7544\n",
            "Epoch 2/2\n",
            "5249/5249 [==============================] - 0s 37us/step - loss: 0.4808 - acc: 0.7767\n",
            "Epoch 1/2\n",
            "5250/5250 [==============================] - 1s 186us/step - loss: 0.6187 - acc: 0.7600\n",
            "Epoch 2/2\n",
            "5250/5250 [==============================] - 0s 39us/step - loss: 0.4647 - acc: 0.7602\n",
            "Epoch 1/2\n",
            "5249/5249 [==============================] - 1s 181us/step - loss: 0.6424 - acc: 0.7535\n",
            "Epoch 2/2\n",
            "5249/5249 [==============================] - 0s 38us/step - loss: 0.5151 - acc: 0.7615\n",
            "Epoch 1/2\n",
            "5250/5250 [==============================] - 1s 198us/step - loss: 0.6268 - acc: 0.7604\n",
            "Epoch 2/2\n",
            "5250/5250 [==============================] - 0s 37us/step - loss: 0.4913 - acc: 0.7632\n",
            "Epoch 1/3\n",
            "5249/5249 [==============================] - 1s 212us/step - loss: 0.6349 - acc: 0.7556\n",
            "Epoch 2/3\n",
            "5249/5249 [==============================] - 0s 35us/step - loss: 0.4725 - acc: 0.7798\n",
            "Epoch 3/3\n",
            "5249/5249 [==============================] - 0s 37us/step - loss: 0.3957 - acc: 0.7965\n",
            "Epoch 1/3\n",
            "5250/5250 [==============================] - 1s 222us/step - loss: 0.6453 - acc: 0.7480\n",
            "Epoch 2/3\n",
            "5250/5250 [==============================] - 0s 42us/step - loss: 0.4781 - acc: 0.7783\n",
            "Epoch 3/3\n",
            "5250/5250 [==============================] - 0s 38us/step - loss: 0.3916 - acc: 0.8040\n",
            "Epoch 1/3\n",
            "5249/5249 [==============================] - 1s 220us/step - loss: 0.6292 - acc: 0.7601\n",
            "Epoch 2/3\n",
            "5249/5249 [==============================] - 0s 37us/step - loss: 0.4978 - acc: 0.7613\n",
            "Epoch 3/3\n",
            "5249/5249 [==============================] - 0s 37us/step - loss: 0.4184 - acc: 0.7851\n",
            "Epoch 1/3\n",
            "5250/5250 [==============================] - 1s 225us/step - loss: 0.6419 - acc: 0.7610\n",
            "Epoch 2/3\n",
            "5250/5250 [==============================] - 0s 38us/step - loss: 0.5241 - acc: 0.8067\n",
            "Epoch 3/3\n",
            "5250/5250 [==============================] - 0s 39us/step - loss: 0.4291 - acc: 0.8038\n",
            "Epoch 1/3\n",
            "10499/10499 [==============================] - 2s 172us/step - loss: 0.5023 - acc: 0.7596\n",
            "Epoch 2/3\n",
            "10499/10499 [==============================] - 1s 66us/step - loss: 0.3737 - acc: 0.7608\n",
            "Epoch 3/3\n",
            "10499/10499 [==============================] - 1s 67us/step - loss: 0.3289 - acc: 0.8327\n"
          ],
          "name": "stdout"
        }
      ]
    },
    {
      "cell_type": "code",
      "metadata": {
        "id": "OlN3gojdQJyF",
        "colab_type": "code",
        "colab": {}
      },
      "source": [
        "best_param = grid_search.best_params_\n",
        "best_accuracy = grid_search.best_score_"
      ],
      "execution_count": 0,
      "outputs": []
    },
    {
      "cell_type": "code",
      "metadata": {
        "id": "A-U6N7WQQMA7",
        "colab_type": "code",
        "colab": {
          "base_uri": "https://localhost:8080/",
          "height": 34
        },
        "outputId": "024306f3-d3d4-4ceb-c643-f52557195613"
      },
      "source": [
        "best_param"
      ],
      "execution_count": 49,
      "outputs": [
        {
          "output_type": "execute_result",
          "data": {
            "text/plain": [
              "{'batch_size': 20, 'epochs': 3, 'optimizer': 'adam'}"
            ]
          },
          "metadata": {
            "tags": []
          },
          "execution_count": 49
        }
      ]
    },
    {
      "cell_type": "code",
      "metadata": {
        "id": "Ca31lryzQSGk",
        "colab_type": "code",
        "colab": {
          "base_uri": "https://localhost:8080/",
          "height": 34
        },
        "outputId": "fffc862c-3924-41d6-8945-f691e80a440f"
      },
      "source": [
        "best_accuracy"
      ],
      "execution_count": 50,
      "outputs": [
        {
          "output_type": "execute_result",
          "data": {
            "text/plain": [
              "0.8490366781881356"
            ]
          },
          "metadata": {
            "tags": []
          },
          "execution_count": 50
        }
      ]
    }
  ]
}